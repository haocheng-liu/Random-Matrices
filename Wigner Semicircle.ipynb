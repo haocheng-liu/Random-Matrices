{
 "cells": [
  {
   "cell_type": "markdown",
   "id": "a4f20e69-b51e-4d94-80be-f4680583920c",
   "metadata": {},
   "source": [
    "# Wigner’s semi-circle law"
   ]
  },
  {
   "cell_type": "markdown",
   "id": "403747ad-b793-430a-88d5-e73dc0449368",
   "metadata": {},
   "source": [
    "- Eigenvalues of a random matrix\n",
    "- Take a large-dimensional (dimension 100, 1000, or more) square random matrix whose elements are independently drawn from $N (0\\sim 1)$ and plot a histogram of its eigenvalues to illustrate Wigner’s semicircle law (en.wikipedia.org/wiki/Wigner_semicircle_distribution)."
   ]
  },
  {
   "cell_type": "code",
   "execution_count": 48,
   "id": "86fe8a00-f29b-4911-9533-af8bd79c3a13",
   "metadata": {},
   "outputs": [],
   "source": [
    "import numpy as np\n",
    "from scipy import linalg as LA\n",
    "from random import gauss\n",
    "from math import sqrt\n",
    "import matplotlib.pylab as plt\n",
    "import imageio.v2 as imageio\n",
    "import os"
   ]
  },
  {
   "cell_type": "markdown",
   "id": "f5b16345-47c7-4c70-bfd7-7074673f395e",
   "metadata": {},
   "source": [
    "Consider a random matrix $X \\in \\mathbb{R}^n$."
   ]
  },
  {
   "cell_type": "code",
   "execution_count": 42,
   "id": "3ae47d70-34ea-49a8-ae1e-4ff5bc2f2252",
   "metadata": {},
   "outputs": [],
   "source": [
    "n = 100                          # dimension of the random matrix\n",
    "x = np.zeros((n,n))             # initialize a two-dimensional array\n",
    "for i in range(n):\n",
    "    for j in range(i,n):\n",
    "        x[i, j] = gauss(0,1)    # random element\n",
    "        x[j, i] = x[i, j]       # symmetrically placed element"
   ]
  },
  {
   "cell_type": "markdown",
   "id": "399e60c4-2fa7-4b03-91c0-cab18c690401",
   "metadata": {},
   "source": [
    "Set $Y=\\frac{X}{\\sqrt{n}}$ for scaling the radius of our semicircle."
   ]
  },
  {
   "cell_type": "code",
   "execution_count": 43,
   "id": "03849f35-9417-422b-8c45-ab3ab0a9fa60",
   "metadata": {},
   "outputs": [],
   "source": [
    "y = x / np.sqrt(n)"
   ]
  },
  {
   "cell_type": "markdown",
   "id": "1f54f1f8-2e77-4c32-a0a7-be5644782aa0",
   "metadata": {},
   "source": [
    "Compute eigenvalues and take their real part (imaginary is zero anyway because x is symmetric)."
   ]
  },
  {
   "cell_type": "code",
   "execution_count": 44,
   "id": "d47ce1d9-ab4b-429e-82a1-65b52c9baf79",
   "metadata": {},
   "outputs": [],
   "source": [
    "evals = LA.eigvals(y).real"
   ]
  },
  {
   "cell_type": "markdown",
   "id": "4a5540a0-21e1-45e5-8170-61c9c6eaf1a9",
   "metadata": {},
   "source": [
    "Plot the empirical spectral ditribution of all eigenvalues."
   ]
  },
  {
   "cell_type": "code",
   "execution_count": 67,
   "id": "52721c3f-8c1d-4020-b891-b2f9ee554451",
   "metadata": {},
   "outputs": [
    {
     "name": "stdout",
     "output_type": "stream",
     "text": [
      "26.0 1.9932306155807582\n"
     ]
    },
    {
     "data": {
      "image/png": "[encoded data removed]",
      "text/plain": [
       "<Figure size 600x300 with 1 Axes>"
      ]
     },
     "metadata": {},
     "output_type": "display_data"
    }
   ],
   "source": [
    "evals = LA.eigvals(rm(1000)).real      # compute eigenvalues and take their real part (imaginary is zero anyway because x is symmetric)\n",
    "plt.figure(figsize = (6, 3))\n",
    "bins, vals, patches = plt.hist(evals.real, bins = 50, label='ESD', histtype='stepfilled', alpha=0.5)   # draw the histogram of all eigenvalues\n",
    "H = max(bins)                                           # height of the circle\n",
    "R = max(abs(vals))                                      # radius of the circle\n",
    "x = np.linspace(-R,R,100)                               # an x-grid to draw the semicircle\n",
    "y = np.array([H*sqrt(1-(xval/R)**2) for xval in x])     # y-values for the semicircle\n",
    "print(H, R)\n",
    "\n",
    "                                     # a bit of margin at the top\n",
    "plt.plot(x, y, color = 'r', linewidth = 2, label='semi-circle')              # plot the semicircle\n",
    "plt.xlabel(r'$\\lambda$', fontsize = 18)                 # label x-axis\n",
    "plt.ylabel(r'$n$', fontsize = 18)                       # label y-axis\n",
    "plt.legend()\n",
    "# plt.axes().set_aspect(R/H)                              # aspect ratio 1:1 (so that our distribution looks like a circle)\n",
    "plt.savefig('wigner.pdf')                               # save the output\n",
    "plt.show()"
   ]
  },
  {
   "cell_type": "markdown",
   "id": "7f1a3929-d8e9-4c13-aef1-43d12df5499e",
   "metadata": {},
   "source": [
    "Let's see the process of convergence of spectral distribution from $n=5$ to $n=5000$."
   ]
  },
  {
   "cell_type": "markdown",
   "id": "97b36d02-ad4d-42b5-a7ff-6abfa7491fa6",
   "metadata": {},
   "source": [
    "![](./wigner semicircle.gif)"
   ]
  },
  {
   "cell_type": "code",
   "execution_count": 68,
   "id": "7f9ea98b-d187-497a-83cf-a62eea0c1dc4",
   "metadata": {},
   "outputs": [],
   "source": [
    "def rm(n):\n",
    "    x = np.zeros((n,n))             # initialize a two-dimensional array\n",
    "    for i in range(n):\n",
    "        for j in range(i,n):\n",
    "            x[i, j] = gauss(0,1)    # random element\n",
    "            x[j, i] = x[i, j]       # symmetrically placed element\n",
    "    return x / np.sqrt(n)"
   ]
  },
  {
   "cell_type": "code",
   "execution_count": 69,
   "id": "301cb0dd-1228-4b05-b1cd-7d704494a13e",
   "metadata": {},
   "outputs": [
    {
     "name": "stdout",
     "output_type": "stream",
     "text": [
      "Creating gif\n",
      "\n",
      "Gif saved\n",
      "\n",
      "Removing Images\n",
      "\n",
      "DONE\n"
     ]
    }
   ],
   "source": [
    "filenames = []\n",
    "gif_name = 'wigner semicircle'\n",
    "\n",
    "for i, n in enumerate(np.arange(10, 2000, 10)):\n",
    "    evals = LA.eigvals(rm(n)).real\n",
    "    bins, vals, patches = plt.hist(evals.real, bins = 50, label='ESD', histtype='stepfilled', alpha=0.5)   # draw the histogram of all eigenvalues\n",
    "    plt.xlabel(r'$\\lambda$', fontsize = 18)                 # label x-axis\n",
    "    plt.ylabel(r'$n$', fontsize = 18)                       # label y-axis\n",
    "    plt.legend()\n",
    "\n",
    "    filename = f'{i}.png'\n",
    "    filenames.append(filename)\n",
    "    plt.savefig(filename)\n",
    "    plt.close()\n",
    "    \n",
    "# Build GIF\n",
    "print('Creating gif\\n')\n",
    "with imageio.get_writer(f'{gif_name}.gif', mode='I') as writer:\n",
    "    for filename in filenames:\n",
    "        image = imageio.imread(filename)\n",
    "        writer.append_data(image)\n",
    "print('Gif saved\\n')\n",
    "print('Removing Images\\n')\n",
    "# Remove files\n",
    "for filename in set(filenames):\n",
    "    os.remove(filename)\n",
    "print('DONE')"
   ]
  },
  {
   "cell_type": "markdown",
   "id": "32ffde2d-67d4-43d5-9acd-eac087bb7a21",
   "metadata": {},
   "source": [
    "![wigner semicircle](wigner semicircle.gif)"
   ]
  }
 ],
 "metadata": {
  "kernelspec": {
   "display_name": "Python 3 (ipykernel)",
   "language": "python",
   "name": "python3"
  },
  "language_info": {
   "codemirror_mode": {
    "name": "ipython",
    "version": 3
   },
   "file_extension": ".py",
   "mimetype": "text/x-python",
   "name": "python",
   "nbconvert_exporter": "python",
   "pygments_lexer": "ipython3",
   "version": "3.8.13"
  }
 },
 "nbformat": 4,
 "nbformat_minor": 5
}
